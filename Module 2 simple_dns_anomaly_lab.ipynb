{
 "cells": [
  {
   "cell_type": "markdown",
   "id": "4ed4dd82",
   "metadata": {},
   "source": [
    "# Simple DNS Anomaly Detection Lab\n",
    "\n",
    "Hands-on notebook demonstrating:\n",
    "1. Load DNS dataset\n",
    "2. Statistical Analysis (Z-score, IQR)\n",
    "3. ML Anomaly Detection (Isolation Forest, One-Class SVM)\n",
    "4. Detection Rules (Sigma, IDS/Firewall examples)\n"
   ]
  },
  {
   "cell_type": "markdown",
   "id": "35f21beb",
   "metadata": {},
   "source": [
    "## Step 1: Load dataset"
   ]
  },
  {
   "cell_type": "code",
   "execution_count": null,
   "id": "37d4e86e",
   "metadata": {},
   "outputs": [],
   "source": [
    "import pandas as pd\n",
    "DATA_PATH = r\"/mnt/data/zeek_dns_export.csv\"\n",
    "df = pd.read_csv(DATA_PATH)\n",
    "print(\"Rows, Cols:\", df.shape)\n",
    "print(\"Columns:\", df.columns.tolist()[:20], \"...\")\n",
    "df.head()\n"
   ]
  },
  {
   "cell_type": "code",
   "execution_count": null,
   "id": "fd041a83",
   "metadata": {},
   "outputs": [],
   "source": [
    "# Normalize Zeek DNS field names if present\n",
    "rename_map = {\n",
    "    'source.ip': 'src_ip',\n",
    "    'destination.ip': 'dst_ip',\n",
    "    'zeek.dns.query': 'query',\n",
    "    'zeek.dns.qtype_name': 'qtype',\n",
    "    'zeek.dns.rcode': 'rcode'\n",
    "}\n",
    "for k,v in rename_map.items():\n",
    "    if k in df.columns and v not in df.columns:\n",
    "        df = df.rename(columns={k:v})\n",
    "\n",
    "df['query'] = df.get('query', pd.Series(index=df.index, dtype='object')).fillna('').astype(str)\n",
    "df['query_len'] = df['query'].astype(str).str.len()\n",
    "\n",
    "print(df[['src_ip','query','query_len']].head())\n"
   ]
  },
  {
   "cell_type": "markdown",
   "id": "4a27144d",
   "metadata": {},
   "source": [
    "## Step 2: Statistical Analysis (Z-score, IQR)"
   ]
  },
  {
   "cell_type": "code",
   "execution_count": null,
   "id": "6fba9d0c",
   "metadata": {},
   "outputs": [],
   "source": [
    "from scipy import stats\n",
    "import numpy as np\n",
    "\n",
    "# group per src_ip\n",
    "agg = df.groupby('src_ip').agg(\n",
    "    queries_per_ip=('query','count'),\n",
    "    avg_query_len=('query_len','mean')\n",
    ").reset_index()\n",
    "\n",
    "# Z-score on queries_per_ip\n",
    "agg['zscore'] = stats.zscore(agg['queries_per_ip'])\n",
    "agg['zscore_flag'] = agg['zscore'].abs() > 3\n",
    "\n",
    "# IQR\n",
    "Q1 = agg['queries_per_ip'].quantile(0.25)\n",
    "Q3 = agg['queries_per_ip'].quantile(0.75)\n",
    "IQR = Q3 - Q1\n",
    "lower, upper = Q1 - 1.5*IQR, Q3 + 1.5*IQR\n",
    "agg['iqr_flag'] = (agg['queries_per_ip'] < lower) | (agg['queries_per_ip'] > upper)\n",
    "\n",
    "agg.sort_values('queries_per_ip', ascending=False).head(10)\n"
   ]
  },
  {
   "cell_type": "markdown",
   "id": "d1e4b623",
   "metadata": {},
   "source": [
    "## Step 3: ML Anomaly Detection (Isolation Forest, One-Class SVM)"
   ]
  },
  {
   "cell_type": "code",
   "execution_count": null,
   "id": "ed445ac7",
   "metadata": {},
   "outputs": [],
   "source": [
    "from sklearn.preprocessing import RobustScaler\n",
    "from sklearn.ensemble import IsolationForest\n",
    "from sklearn.svm import OneClassSVM\n",
    "\n",
    "features = ['queries_per_ip','avg_query_len']\n",
    "X = agg[features].fillna(0).values\n",
    "scaler = RobustScaler()\n",
    "X_scaled = scaler.fit_transform(X)\n",
    "\n",
    "# Isolation Forest\n",
    "if_model = IsolationForest(contamination=0.05, random_state=42)\n",
    "agg['if_flag'] = if_model.fit_predict(X_scaled) == -1\n",
    "agg['if_score'] = -if_model.decision_function(X_scaled)\n",
    "\n",
    "# One-Class SVM\n",
    "ocsvm = OneClassSVM(kernel='rbf', gamma='scale', nu=0.05)\n",
    "agg['ocsvm_flag'] = ocsvm.fit_predict(X_scaled) == -1\n",
    "agg['ocsvm_score'] = -ocsvm.decision_function(X_scaled)\n",
    "\n",
    "agg[['src_ip','queries_per_ip','if_score','if_flag','ocsvm_score','ocsvm_flag']].head(10)\n"
   ]
  },
  {
   "cell_type": "markdown",
   "id": "814b1fac",
   "metadata": {},
   "source": [
    "## Step 4: Detection Rules\n",
    "\n",
    "Examples of exporting anomaly detection into rules."
   ]
  },
  {
   "cell_type": "code",
   "execution_count": null,
   "id": "ecf49835",
   "metadata": {},
   "outputs": [],
   "source": [
    "import yaml, numpy as np\n",
    "\n",
    "# Derive threshold (95th percentile of queries_per_ip)\n",
    "thr = int(np.percentile(agg['queries_per_ip'], 95))\n",
    "\n",
    "# Sigma rule\n",
    "sigma = {\n",
    "  'title': 'Excessive DNS Queries Per Host',\n",
    "  'id': 'dns-excess-queries-baseline',\n",
    "  'description': 'Detect hosts with unusually high DNS queries per IP',\n",
    "  'logsource': {'product':'zeek','service':'dns'},\n",
    "  'detection': {'selection': {'queries_per_ip': {'min': thr}}, 'condition': 'selection'},\n",
    "  'level': 'high'\n",
    "}\n",
    "with open('/mnt/data/sigma_dns_example.yml','w') as f:\n",
    "    yaml.safe_dump(sigma,f)\n",
    "print(\"Sigma rule written to /mnt/data/sigma_dns_example.yml\")\n",
    "\n",
    "# IDS/firewall example (pseudo):\n",
    "print(\"\\nIDS/Firewall example:\")\n",
    "print(f\"alert dns any any -> any any (msg:\\\"Excessive DNS Queries\\\"; threshold: type both, track by_src, count {thr}, seconds 3600; sid:1000001;)\")\n"
   ]
  }
 ],
 "metadata": {
  "kernelspec": {
   "display_name": "Python 3",
   "name": "python3"
  }
 },
 "nbformat": 4,
 "nbformat_minor": 5
}
